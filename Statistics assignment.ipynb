{
 "cells": [
  {
   "cell_type": "code",
   "execution_count": null,
   "id": "d60a158b-5ff0-4ed5-b531-fb7b5b35ce38",
   "metadata": {},
   "outputs": [],
   "source": [
    "Q1. What is the Probability density function? \n",
    "A probability density function (PDF) is a statistical expression that defines the relationship between a \n",
    "random variable and its probability. It is also called a probability distribution function or just a probability function. \n",
    "The PDF is used to specify the probability of the random variable falling within a particular range of values. \n",
    "The probability is given by the integral of this variable's PDF over that range, \n",
    "which is the area under the density function but above the horizontal axis and between the lowest and greatest values of the range. \n"
   ]
  },
  {
   "cell_type": "code",
   "execution_count": null,
   "id": "662609e7-416e-48a0-82f4-7cae46d71072",
   "metadata": {},
   "outputs": [],
   "source": [
    "Q2. What are the types of Probability distribution? \n",
    "There are two types of probability distribution: normal or cumulative and binomial or discrete.\n",
    "Binomial distribution\n",
    "In this distribution, the number of outcomes in a single trial is two, and each trial is independent of another.\n",
    "Discrete probability distribution\n",
    "This distribution models the probabilities of random variables with discrete outcomes. It takes into consideration finite and countable events.\n",
    "Continuous probability distribution\n",
    "This distribution generally appears as a curve or a line on a graph because the data under the line is continuous and not finite"
   ]
  },
  {
   "cell_type": "code",
   "execution_count": null,
   "id": "b10109bf-dec0-4f18-b82c-589ccae322cf",
   "metadata": {},
   "outputs": [],
   "source": [
    "Q3. Write a Python function to calculate the probability density function of a normal distribution with  given mean and standard deviation at a given point.\n",
    "from scipy.stats import norm \n",
    "import numpy as np \n",
    "\n",
    "data_start = -5\n",
    "data_end = 5\n",
    "data_points = 11\n",
    "data = np.linspace(data_start, data_end, data_points) \n",
    "\n",
    "mean = np.mean(data) \n",
    "std = np.std(data) \n",
    "\n",
    "probability_pdf = norm.pdf(3, loc=mean, scale=std) \n",
    "print(probability_pdf) \n"
   ]
  },
  {
   "cell_type": "code",
   "execution_count": null,
   "id": "46a93ce9-6942-4352-9d4f-ccf49743b397",
   "metadata": {},
   "outputs": [],
   "source": [
    "Q4. What are the properties of Binomial distribution? Give two examples of events where binomial  distribution can be applied. \n",
    "The properties of the binomial distribution are:\n",
    "\n",
    "There are only two distinct possible outcomes: true/false, success/failure, yes/no.\n",
    "There is a fixed number of 'n' times repeated trials in a given experiment.\n",
    "The probability of success or failure remains constant for each attempt/trial.\n",
    "Only the successful attempts are calculated out of 'n' independent trials.\n",
    "Every trial is an independent trial on its own, this means that the outcome of one trial has no effect on the outcome of another trial\n",
    "Here are two examples of events where a binomial distribution can be applied:\n",
    "Counting the number of male and female employees in an organization\n",
    "Calculating the number of votes collected by a candidate in an election"
   ]
  },
  {
   "cell_type": "code",
   "execution_count": null,
   "id": "44294e77-3413-4da4-a1eb-75520ba9ba70",
   "metadata": {},
   "outputs": [],
   "source": [
    "Q5. Generate a random sample of size 1000 from a binomial distribution with probability of success 0.4  and plot a histogram of the results using matplotlib. \n",
    "from scipy.stats import binom \n",
    "# setting the values \n",
    "# of n and p \n",
    "n = 6\n",
    "p = 0.6\n",
    "# defining the list of r values \n",
    "r_values = list(range(n + 1)) \n",
    "# obtaining the mean and variance \n",
    "mean, var = binom.stats(n, p) \n",
    "# list of pmf values \n",
    "dist = [binom.pmf(r, n, p) for r in r_values ] \n",
    "# printing the table \n",
    "print(\"r\\tp(r)\") \n",
    "for i in range(n + 1): \n",
    "\tprint(str(r_values[i]) + \"\\t\" + str(dist[i])) \n",
    "# printing mean and variance \n",
    "print(\"mean = \"+str(mean)) \n",
    "print(\"variance = \"+str(var))\n"
   ]
  },
  {
   "cell_type": "code",
   "execution_count": null,
   "id": "2b1fb52b-182d-4090-85aa-c6efa2ff049a",
   "metadata": {},
   "outputs": [],
   "source": [
    "Q6. Write a Python function to calculate the cumulative distribution function of a Poisson distribution  with given mean at a given point. \n",
    "# defining the libraries \n",
    "import numpy as np \n",
    "import matplotlib.pyplot as plt \n",
    "import pandas as pd \n",
    "%matplotlib inline \n",
    "\n",
    "# No of Data points \n",
    "N = 500\n",
    "\n",
    "# initializing random values \n",
    "data = np.random.randn(N) \n",
    "\n",
    "# getting data of the histogram \n",
    "count, bins_count = np.histogram(data, bins=10) \n",
    "\n",
    "# finding the PDF of the histogram using count values \n",
    "pdf = count / sum(count) \n",
    "\n",
    "# using numpy np.cumsum to calculate the CDF \n",
    "# We can also find using the PDF values by looping and adding \n",
    "cdf = np.cumsum(pdf) \n",
    "\n",
    "# plotting PDF and CDF \n",
    "plt.plot(bins_count[1:], pdf, color=\"red\", label=\"PDF\") \n",
    "plt.plot(bins_count[1:], cdf, label=\"CDF\") \n",
    "plt.legend() \n"
   ]
  },
  {
   "cell_type": "code",
   "execution_count": null,
   "id": "c7391784-19f1-4a4a-85eb-4334b69c1c5d",
   "metadata": {},
   "outputs": [],
   "source": [
    "Q7. How Binomial distribution different from Poisson distribution? \n",
    "Here are some differences between binomial and Poisson distributions:\n",
    "Sample size\n",
    "Binomial distributions are used when the sample size is fixed and the probability of success is constant for each trial. Poisson distributions are used when the sample size is variable and the average rate of occurrence is constant for each interval.\n",
    "Number of outcomes\n",
    "Binomial distributions have two possible outcomes: success or failure. Poisson distributions have no limits on the number of possible outcomes.\n",
    "Number of trials\n",
    "Binomial distributions require a fixed number of trials. Poisson distributions do not have a predetermined number of events.\n",
    "Probability of success\n",
    "In binomial distributions, the probability of success remains constant for each trial. Poisson distributions do not explicitly consider the probability of success.\n",
    "Applications\n",
    "Binomial distributions can be used to calculate the likelihood of success or failure in a fixed number of trials. Poisson distributions can be used to calculate the likelihood of a certain number of events happening in a fixed period of time or space\n"
   ]
  },
  {
   "cell_type": "code",
   "execution_count": null,
   "id": "763870c1-47e6-4cb3-a116-8bab81a67764",
   "metadata": {},
   "outputs": [],
   "source": [
    "Q8. Generate a random sample of size 1000 from a Poisson distribution with mean 5 and calculate the  sample mean and variance. \n",
    "# import numpy \n",
    "import numpy as np \n",
    "import matplotlib.pyplot as plt \n",
    "\n",
    "# Using poisson() method \n",
    "gfg = np.random.poisson(10, 1000) \n",
    "\n",
    "count, bins, ignored = plt.hist(gfg, 14, density = True) \n",
    "plt.show()\n",
    "\n"
   ]
  },
  {
   "cell_type": "code",
   "execution_count": null,
   "id": "2aba93b1-a2cc-457f-8efc-803a2c3d5118",
   "metadata": {},
   "outputs": [],
   "source": [
    "Q9. How mean and variance are related in Binomial distribution and Poisson distribution? \n",
    "In a binomial distribution, the mean is \\(E(X)=np\\) and the variance is \\(Var(X)=np(1-p)\\). In a Poisson distribution, the mean is \\(E(Y)=\\lambda \\) and the variance is $\\Var(Y)=\\lambda$. This means that the mean and variance are related by \\(Var(X)=(1-p)E(X)\\).                       studysmarter.co.uk   Variance for Binomial Distribution: Formula & Mean - StudySmarter    If X is a binomial variable, i.e., X~B(n,p), then the mean is E(X)=np and the variance is Var(X)=np(1-p), so they are related by Var(X)=(1-p)E(X). If Y is a Poisson variable, i.e, Y~Poi(λ), then the mean is E(Y)=λ and the variance is Var(Y)=λ, so the mean and the variance are the same.                             ncl.ac.uk   Binomial Distribution - Newcastle University    Mean and Variance If X is a binomially distributed discrete random variable then the mean of X μ=E[X]=np μ = E [ X ] = n p and the variance of X is Var[X]=np(1−p). V a r [ X ] = n p ( 1 − p ) .        (function(){\n",
    "(this||self).Bqpk9e=function(f,d,n,e,k,p){var g=document.getElementById(f);if(g&&(0!==g.offsetWidth||0!==g.offsetHeight)){var l=g.querySelector(\"div\"),h=l.querySelector(\"div\"),a=0;f=Math.max(l.scrollWidth-l.offsetWidth,0);if(0<d&&(h=h.children,a=h[d].offsetLeft-h[0].offsetLeft,e)){for(var m=a=0;m<d;++m)a+=h[m].offsetWidth;a=Math.min(f,a)}a+=n;d=Math.min(e?f-a:a,f);l.scrollLeft=e&&p?a:e&&k?-a:d;var b=g.getElementsByTagName(\"g-left-button\")[0],c=g.getElementsByTagName(\"g-right-button\")[0];b&&c&&(e=\n",
    "RegExp(\"\\\\btHT0l\\\\b\"),k=RegExp(\"\\\\bpQXcHc\\\\b\"),b.className=b.className.replace(e,\"\"),c.className=c.className.replace(e,\"\"),b.className=0===d?\"pQXcHc \"+b.className:b.className.replace(k,\"\"),c.className=d===f?\"pQXcHc \"+c.className:c.className.replace(k,\"\"),setTimeout(function(){b.className+=\" tHT0l\";c.className+=\" tHT0l\"},50))}};}).call(this);(function(){var id='_gZoFZoirD6a4juMPo52Y6Ac_10';var index=0;var offset=0;var is_rtl=false;var is_gecko=false;var is_edge=false;var init='Bqpk9e';window[init](id,index,offset,is_rtl,is_gecko,is_edge);})();The mean and variance of a binomial distribution are determined by the number of trials and the probability of success. The mean of a binomial distribution is always equal to \\(p\\), and the variance is always equal to \\(pq/N\\). For reasonable sample sizes and for values of \\(p\\) between about .20 and .80, the distribution is roughly normally distributed.                       The University of Vermont   Poisson and Binomial Distributions                                 AlmaBetter   Binomial and Poisson Distribution - AlmaBetter    Key Takeaways. The Binomial Distribution models the probability of a fixed number of successes in a fixed number of independent trials with a constant probability of success. The Poisson Distribution models the probability of a certain number of events occurring in a fixed interval of time or space, assuming a constant rate of occurrence. The mean and variance of the Binomial Distribution are determined by the number of trials and the probability of success, while the mean and variance of the Poisson Distribution are both equal to the rate parameter λ.                             Testbook   \"If the mean and variance of a binomial distribution are 5 an\"     13 Feb 2023  —   \"The correct answer is 25 Key PointsGiven: Mean = np =5 Variance = np (1−p) = 4 Calculation: Variance = 4 ⇒ np (1−p) = 4 ⇒ 1 − p = 45​ ⇒ 1 − p = 45 ⇒ p = 15 Since, np = 5 ⇒ n × 15 = 5 ⇒ n = 25 ∴ The value of n is 25. Given the mean and variance of a binomial distribution, we can find the values of n and p. The mean of a binomial distribution is equal to n * p, and the variance is equal to n * p * (1 - p). We can use these two equations to solve for n and p. Additional Information The binomial distribution is a discrete probability distribution that describes the number of successes in a fixed number of independent Bernoulli trials. The parameters of a binomial distribution are n (the number of trials) and p (the probability of success in each trial). The mean and variance of a binomial distribution are n * p and n * p * (1 - p), respectively. Given the mean and variance of a binomial distribution, we can use these two equations to find the values of n and p. Understandi…        (function(){\n",
    "(this||self).Bqpk9e=function(f,d,n,e,k,p){var g=document.getElementById(f);if(g&&(0!==g.offsetWidth||0!==g.offsetHeight)){var l=g.querySelector(\"div\"),h=l.querySelector(\"div\"),a=0;f=Math.max(l.scrollWidth-l.offsetWidth,0);if(0<d&&(h=h.children,a=h[d].offsetLeft-h[0].offsetLeft,e)){for(var m=a=0;m<d;++m)a+=h[m].offsetWidth;a=Math.min(f,a)}a+=n;d=Math.min(e?f-a:a,f);l.scrollLeft=e&&p?a:e&&k?-a:d;var b=g.getElementsByTagName(\"g-left-button\")[0],c=g.getElementsByTagName(\"g-right-button\")[0];b&&c&&(e=\n",
    "RegExp(\"\\\\btHT0l\\\\b\"),k=RegExp(\"\\\\bpQXcHc\\\\b\"),b.className=b.className.replace(e,\"\"),c.className=c.className.replace(e,\"\"),b.className=0===d?\"pQXcHc \"+b.className:b.className.replace(k,\"\"),c.className=d===f?\"pQXcHc \"+c.className:c.className.replace(k,\"\"),setTimeout(function(){b.className+=\" tHT0l\";c.className+=\" tHT0l\"},50))}};}).call(this);(function(){var id='_gZoFZoirD6a4juMPo52Y6Ac_9';var index=0;var offset=0;var is_rtl=false;var is_gecko=false;var is_edge=false;var init='Bqpk9e';window[init](id,index,offset,is_rtl,is_gecko,is_edge);})();In contrast, the mean and variance of a Poisson distribution are both equal to the rate parameter \\(\\lambda \\)."
   ]
  },
  {
   "cell_type": "code",
   "execution_count": null,
   "id": "3ccb58ea-326b-4a72-ae27-37a79600d4a1",
   "metadata": {},
   "outputs": [],
   "source": [
    "Q10. In normal distribution with respect to mean position, where does the least frequent data appear? \n",
    "In a normal distribution, the least frequent data appears in the tails of the distribution, furthest away from the mean. This is because the normal distribution is a symmetrical bell-shaped curve, with the mean at the center of the curve. The data points closest to the mean are the most frequent, and the data points furthest away from the mean are the least frequent.\n",
    "For example, in a normal distribution of heights, the most frequent heights would be those closest to the average height. The least frequent heights would be those that are much taller or much shorter than the average height.\n",
    "The normal distribution is also known as the Gaussian distribution or the bell curve. It is a very common distribution in nature, and it is used in many different fields, such as statistics, economics, and engineering."
   ]
  }
 ],
 "metadata": {
  "kernelspec": {
   "display_name": "Python 3 (ipykernel)",
   "language": "python",
   "name": "python3"
  },
  "language_info": {
   "codemirror_mode": {
    "name": "ipython",
    "version": 3
   },
   "file_extension": ".py",
   "mimetype": "text/x-python",
   "name": "python",
   "nbconvert_exporter": "python",
   "pygments_lexer": "ipython3",
   "version": "3.10.8"
  }
 },
 "nbformat": 4,
 "nbformat_minor": 5
}
