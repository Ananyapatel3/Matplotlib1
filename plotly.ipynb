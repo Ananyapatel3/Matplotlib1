{
 "cells": [
  {
   "cell_type": "code",
   "execution_count": null,
   "id": "03481a46-ed1d-4b53-94d9-3467296f97e0",
   "metadata": {},
   "outputs": [],
   "source": [
    "Q1. Load the \"titanic\" dataset using the load_dataset function of seaborn. Use Plotly express to plot a\n",
    "scatter plot for age and fare columns in the titanic dataset."
   ]
  },
  {
   "cell_type": "code",
   "execution_count": null,
   "id": "7e2d5240-ef3c-4140-a9a8-1075bb3ce46d",
   "metadata": {},
   "outputs": [],
   "source": [
    "As an AI language model, I cannot create plots, since I don't have a screen to display the plot. However, I can provide you with the code to load the dataset and plot a scatter plot using Plotly express as follows:\n",
    "\n",
    "```\n",
    "import seaborn as sns\n",
    "import plotly.express as px\n",
    "\n",
    "# load the titanic dataset\n",
    "titanic = sns.load_dataset('titanic')\n",
    "\n",
    "# plot a scatter plot for age and fare columns\n",
    "fig = px.scatter(titanic, x='age', y='fare')\n",
    "\n",
    "# show the plot\n",
    "fig.show()\n",
    "```\n",
    "\n",
    "This will create a scatter plot for the age and fare columns from the titanic dataset using Plotly express. You can further customize the plot using Plotly's various parameters."
   ]
  },
  {
   "cell_type": "code",
   "execution_count": null,
   "id": "5aeee96a-5495-4bb2-adcb-7260cef64817",
   "metadata": {},
   "outputs": [],
   "source": [
    "Sure! Here's how you can plot a box plot using Plotly express with the tips dataset:\n",
    "\n",
    "```\n",
    "import plotly.express as px\n",
    "\n",
    "# load the tips dataset from Plotly\n",
    "tips = px.data.tips()\n",
    "\n",
    "# plot a box plot with x='day' and y='total_bill'\n",
    "fig = px.box(tips, x=\"day\", y=\"total_bill\")\n",
    "\n",
    "# show the plot\n",
    "fig.show()\n",
    "```\n",
    "\n",
    "This code will create a box plot with the \"day\" column as the x-axis and the \"total_bill\" column as the y-axis using the tips dataset from Plotly. You can customize this plot further using different parameters provided by the Plotly library."
   ]
  },
  {
   "cell_type": "code",
   "execution_count": null,
   "id": "45df0f9a-0baa-4651-ac78-a97071f08488",
   "metadata": {},
   "outputs": [],
   "source": [
    "Q3. Using the tips dataset in the Plotly library, Plot a histogram for x= \"sex\" and y=\"total_bill\" column in\n",
    "the tips dataset. Also, use the \"smoker\" column with the pattern_shape parameter and the \"day\"\n",
    "column with the color parameter."
   ]
  },
  {
   "cell_type": "code",
   "execution_count": null,
   "id": "3e1e9abf-4e1d-4d65-9f68-72a87c5033c8",
   "metadata": {},
   "outputs": [],
   "source": [
    "To plot a histogram for x=\"sex\" and y=\"total_bill\" column in the tips dataset, and use the \"smoker\" column with the pattern_shape parameter and the \"day\" column with the color parameter, you can use the following code:\n",
    "\n",
    "```\n",
    "import plotly.express as px\n",
    "\n",
    "# load the tips dataset from Plotly\n",
    "tips = px.data.tips()\n",
    "\n",
    "# plot a histogram for x=\"sex\" and y=\"total_bill\", using \"smoker\" column with pattern_shape and \"day\" column with color\n",
    "fig = px.histogram(tips, x=\"sex\", y=\"total_bill\", color=\"day\", pattern_shape=\"smoker\")\n",
    "\n",
    "# show the plot\n",
    "fig.show()\n",
    "```\n",
    "\n",
    "This code will create a histogram for x=\"sex\" and y=\"total_bill\" column in the tips dataset, and use the \"smoker\" column with the pattern_shape parameter and the \"day\" column with the color parameter. The \"smoker\" column as pattern_shape will create different markers for smokers vs. non-smokers. The \"day\" column as the color parameter will color the histogram bars according to the value of \"day\". You can further customize this plot using different parameters provided by the Plotly library."
   ]
  },
  {
   "cell_type": "code",
   "execution_count": null,
   "id": "d18ea458-5b60-4f78-b00e-cd1913ca47f8",
   "metadata": {},
   "outputs": [],
   "source": [
    "Q4. Using the iris dataset in the Plotly library, Plot a scatter matrix plot, using the \"species\" column for\n",
    "the color parameter.\n",
    "Note: Use \"sepal_length\", \"sepal_width\", \"petal_length\", \"petal_width\" columns only with the\n",
    "dimensions parameter."
   ]
  },
  {
   "cell_type": "code",
   "execution_count": null,
   "id": "260c870f-534c-443c-a3f7-41f36713d334",
   "metadata": {},
   "outputs": [],
   "source": [
    "To plot a scatter matrix plot using the \"species\" column for the color parameter on the iris dataset with \"sepal_length\", \"sepal_width\", \"petal_length\", \"petal_width\" columns only with the dimensions parameter, you can use the following code:\n",
    "\n",
    "```\n",
    "import plotly.express as px\n",
    "\n",
    "# load the iris dataset from Plotly\n",
    "iris = px.data.iris()\n",
    "\n",
    "# plot a scatter matrix plot using the \"species\" column for color and \"sepal_length\", \"sepal_width\", \"petal_length\", \"petal_width\" for dimensions\n",
    "fig = px.scatter_matrix(iris, dimensions=[\"sepal_length\", \"sepal_width\", \"petal_length\", \"petal_width\"], color=\"species\")\n",
    "\n",
    "# show the plot\n",
    "fig.show()\n",
    "```\n",
    "\n",
    "This code will create a scatter matrix plot using the \"species\" column for the color parameter on the iris dataset with \"sepal_length\", \"sepal_width\", \"petal_length\", \"petal_width\" columns only with the dimensions parameter. You can further customize this plot using different parameters provided by the Plotly library."
   ]
  },
  {
   "cell_type": "code",
   "execution_count": null,
   "id": "076acda8-e9df-4f51-81ed-b14ad33ee5a2",
   "metadata": {},
   "outputs": [],
   "source": [
    "Q5. What is Distplot? Using Plotly express, plot a distplot."
   ]
  },
  {
   "cell_type": "code",
   "execution_count": null,
   "id": "82ed8350-e422-4a17-8275-b3d2f3caecad",
   "metadata": {},
   "outputs": [],
   "source": [
    "Distplot is a graphical representation of a univariate distribution. It is commonly used to visualize the distribution of a dataset, which can help in understanding the underlying data and its characteristics, such as central tendency and dispersion.\n",
    "\n",
    "To plot a distplot using Plotly express, you need to provide a dataset and the column that you want to plot. Here's an example of how to plot a distplot using Plotly express:\n",
    "\n",
    "```\n",
    "import plotly.express as px\n",
    "\n",
    "# Load the tips dataset from Plotly\n",
    "tips = px.data.tips()\n",
    "\n",
    "# Create a distplot for the \"total_bill\" column\n",
    "fig = px.histogram(tips, x=\"total_bill\", nbins=30, opacity=0.5)\n",
    "\n",
    "# Show the plot\n",
    "fig.show()\n",
    "```\n",
    "\n",
    "In this example, a distplot is created for the \"total_bill\" column in the tips dataset using the histogram function provided by Plotly express. The nbins parameter specifies the number of bins used to create the histogram, and the opacity parameter specifies the transparency level of the histogram bars.\n",
    "\n",
    "You can further customize this distplot using various Plotly express parameters such as the color parameter, histnorm parameter, cumulative parameter, and many others."
   ]
  }
 ],
 "metadata": {
  "kernelspec": {
   "display_name": "Python 3 (ipykernel)",
   "language": "python",
   "name": "python3"
  },
  "language_info": {
   "codemirror_mode": {
    "name": "ipython",
    "version": 3
   },
   "file_extension": ".py",
   "mimetype": "text/x-python",
   "name": "python",
   "nbconvert_exporter": "python",
   "pygments_lexer": "ipython3",
   "version": "3.10.8"
  }
 },
 "nbformat": 4,
 "nbformat_minor": 5
}
